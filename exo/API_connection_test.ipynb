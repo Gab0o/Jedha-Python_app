{
 "cells": [
  {
   "cell_type": "code",
   "execution_count": 1,
   "metadata": {
    "ExecuteTime": {
     "end_time": "2019-07-15T17:58:50.480233Z",
     "start_time": "2019-07-15T17:58:50.477294Z"
    }
   },
   "outputs": [],
   "source": [
    "import requests\n",
    "from bs4 import BeautifulSoup\n",
    "import json\n",
    "import pandas as pd"
   ]
  },
  {
   "cell_type": "markdown",
   "metadata": {},
   "source": [
    "# Scraping"
   ]
  },
  {
   "cell_type": "code",
   "execution_count": 15,
   "metadata": {},
   "outputs": [],
   "source": [
    "raw_html = requests.get(\"https://www.listchallenges.com/completely-random-movie-list\").text\n",
    "\n",
    "html = BeautifulSoup(raw_html)\n",
    "\n",
    "movies = [ \n",
    "    movie.get_text(strip=True).split(' (')[0] \n",
    "    for movie in html.select('div.item-name') \n",
    "]"
   ]
  },
  {
   "cell_type": "code",
   "execution_count": 16,
   "metadata": {},
   "outputs": [],
   "source": [
    "movies_metadata = [\n",
    "    json.loads(requests.get('http://www.omdbapi.com/?t={}&apikey=f6adbb42'.format(movie)).text)\n",
    "    for movie in movies\n",
    "]"
   ]
  },
  {
   "cell_type": "code",
   "execution_count": 17,
   "metadata": {},
   "outputs": [],
   "source": [
    "df = pd.DataFrame(movies_metadata)"
   ]
  },
  {
   "cell_type": "markdown",
   "metadata": {},
   "source": [
    "# Test de l'API"
   ]
  },
  {
   "cell_type": "code",
   "execution_count": 18,
   "metadata": {
    "ExecuteTime": {
     "end_time": "2019-07-15T19:03:49.955487Z",
     "start_time": "2019-07-15T19:03:48.503714Z"
    }
   },
   "outputs": [],
   "source": [
    "data = {\n",
    "    'movies': json.dumps(movies)\n",
    "}\n",
    "\n",
    "df = pd.DataFrame(requests.post(\"http://40.89.160.129:5000/get_movie_metadata\", data).json())\n",
    "\n",
    "json_data = requests.post(\"http://40.89.160.129:5000/get_movie_metadata\", data).json()"
   ]
  },
  {
   "cell_type": "code",
   "execution_count": 19,
   "metadata": {
    "ExecuteTime": {
     "end_time": "2019-07-15T19:12:40.117027Z",
     "start_time": "2019-07-15T19:12:39.839776Z"
    }
   },
   "outputs": [
    {
     "data": {
      "text/plain": [
       "'SUCCESS'"
      ]
     },
     "execution_count": 19,
     "metadata": {},
     "output_type": "execute_result"
    }
   ],
   "source": [
    "data = {\n",
    "    'model_name': 'model_test',\n",
    "    'data': json.dumps(json_data)\n",
    "}\n",
    "\n",
    "requests.post(\"http://40.89.160.129:5000/train_model\", data).text"
   ]
  },
  {
   "cell_type": "code",
   "execution_count": 20,
   "metadata": {
    "ExecuteTime": {
     "end_time": "2019-07-15T19:09:39.310404Z",
     "start_time": "2019-07-15T19:09:39.299502Z"
    }
   },
   "outputs": [
    {
     "data": {
      "text/plain": [
       "[7.313236881920363,\n",
       " 6.31458139695239,\n",
       " 6.200000000000001,\n",
       " 8.005072099261923,\n",
       " 7.423194375087286,\n",
       " 6.634326805640287,\n",
       " 7.286896081721812,\n",
       " 8.21293665956683,\n",
       " 7.479037470347755,\n",
       " 6.689202661985279,\n",
       " 7.594927900738078,\n",
       " 6.885418603047615,\n",
       " 7.619992997371452,\n",
       " 7.2362449458056055,\n",
       " 7.181351419668872,\n",
       " 6.843259977948908,\n",
       " 6.842565767237795,\n",
       " 7.08165900297722,\n",
       " 7.114658528651754,\n",
       " 8.100000000000001,\n",
       " 6.810797338014724,\n",
       " 7.963568742992351,\n",
       " 8.467070343061716]"
      ]
     },
     "execution_count": 20,
     "metadata": {},
     "output_type": "execute_result"
    }
   ],
   "source": [
    "def parse_box_office(raw_box_office):\n",
    "    if(raw_box_office != 'N/A'):\n",
    "        return raw_box_office.replace('$', '').replace(',', '')\n",
    "    else:\n",
    "        return None\n",
    "\n",
    "df['BoxOffice'] = df['BoxOffice'].apply(parse_box_office).dropna()\n",
    "df['USA?'] = df['Country'].apply(lambda country: 1 if (country == 'USA') else 0)\n",
    "df['Genre'] = df['Genre'].apply(lambda genre: genre.split(',')[0])\n",
    "df = pd.get_dummies(df, columns=['Genre'], drop_first=True)\n",
    "df = df.dropna()\n",
    "X = df[['BoxOffice', 'USA?'] + [col for col in df.columns if 'Genre_' in col]]\n",
    "\n",
    "\n",
    "data = {\n",
    "    'model_name': 'model_test',\n",
    "    'data': json.dumps(X.to_dict())\n",
    "}\n",
    "\n",
    "requests.post(\"http://40.89.160.129:5000/predict\", data).json()"
   ]
  }
 ],
 "metadata": {
  "kernelspec": {
   "display_name": "Python 3",
   "language": "python",
   "name": "python3"
  },
  "language_info": {
   "codemirror_mode": {
    "name": "ipython",
    "version": 3
   },
   "file_extension": ".py",
   "mimetype": "text/x-python",
   "name": "python",
   "nbconvert_exporter": "python",
   "pygments_lexer": "ipython3",
   "version": "3.7.1"
  },
  "varInspector": {
   "cols": {
    "lenName": 16,
    "lenType": 16,
    "lenVar": 40
   },
   "kernels_config": {
    "python": {
     "delete_cmd_postfix": "",
     "delete_cmd_prefix": "del ",
     "library": "var_list.py",
     "varRefreshCmd": "print(var_dic_list())"
    },
    "r": {
     "delete_cmd_postfix": ") ",
     "delete_cmd_prefix": "rm(",
     "library": "var_list.r",
     "varRefreshCmd": "cat(var_dic_list()) "
    }
   },
   "types_to_exclude": [
    "module",
    "function",
    "builtin_function_or_method",
    "instance",
    "_Feature"
   ],
   "window_display": false
  }
 },
 "nbformat": 4,
 "nbformat_minor": 2
}
